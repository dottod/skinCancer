{
 "cells": [
  {
   "cell_type": "code",
   "execution_count": 1,
   "metadata": {},
   "outputs": [
    {
     "name": "stdout",
     "output_type": "stream",
     "text": [
      "c:\\Users\\PSA\\Desktop\\Development\\Learning\\SkinCancer\\mergedDatasets\n"
     ]
    }
   ],
   "source": [
    "cd mergedDatasets"
   ]
  },
  {
   "cell_type": "markdown",
   "metadata": {},
   "source": [
    "# Push the data from Images folder to the respective train and test folders and create their DF's."
   ]
  },
  {
   "cell_type": "code",
   "execution_count": 2,
   "metadata": {},
   "outputs": [],
   "source": [
    "import pandas as pd\n",
    "import os\n",
    "from sklearn.model_selection import train_test_split\n"
   ]
  },
  {
   "cell_type": "code",
   "execution_count": 3,
   "metadata": {},
   "outputs": [],
   "source": [
    "fileName = 'GroundTruth.csv'\n",
    "df = pd.read_csv(fileName)\n"
   ]
  },
  {
   "cell_type": "code",
   "execution_count": 4,
   "metadata": {},
   "outputs": [
    {
     "data": {
      "text/plain": [
       "Index(['image', 'MEL', 'NV', 'BCC', 'AKIEC', 'BKL', 'DF', 'VASC', 'NONE'], dtype='object')"
      ]
     },
     "execution_count": 4,
     "metadata": {},
     "output_type": "execute_result"
    }
   ],
   "source": [
    "df.columns"
   ]
  },
  {
   "cell_type": "code",
   "execution_count": 5,
   "metadata": {},
   "outputs": [],
   "source": [
    "def categoryFinder(singleRow):\n",
    "    for x in df.columns:\n",
    "        if singleRow[x]==1:\n",
    "            return x\n",
    "    return None\n"
   ]
  },
  {
   "cell_type": "code",
   "execution_count": 6,
   "metadata": {},
   "outputs": [],
   "source": [
    "df['CATEGORY']=df.apply(lambda x: categoryFinder(x), axis=1)"
   ]
  },
  {
   "cell_type": "code",
   "execution_count": 7,
   "metadata": {},
   "outputs": [],
   "source": [
    "trainDf, testDf = train_test_split(df[['image','CATEGORY']], test_size=0.33, random_state=40,shuffle=True)"
   ]
  },
  {
   "cell_type": "code",
   "execution_count": 8,
   "metadata": {},
   "outputs": [
    {
     "name": "stdout",
     "output_type": "stream",
     "text": [
      "(6737, 2) (3319, 2)\n"
     ]
    }
   ],
   "source": [
    "print(trainDf.shape,testDf.shape)"
   ]
  },
  {
   "cell_type": "code",
   "execution_count": 9,
   "metadata": {},
   "outputs": [
    {
     "data": {
      "text/plain": [
       "array(['MEL', 'NV', 'BCC', 'BKL', 'DF', 'VASC', 'AKIEC', 'NONE'],\n",
       "      dtype=object)"
      ]
     },
     "execution_count": 9,
     "metadata": {},
     "output_type": "execute_result"
    }
   ],
   "source": [
    "testDf.CATEGORY.unique()"
   ]
  },
  {
   "cell_type": "code",
   "execution_count": 10,
   "metadata": {},
   "outputs": [],
   "source": [
    "#Setting directory structure and data for model functioning\n",
    "if not os.path.exists('train'):\n",
    "    os.makedirs('train')\n",
    "\n",
    "if not os.path.exists('test'):\n",
    "    os.makedirs('test')\n",
    "\n",
    "for _ in trainDf.CATEGORY.unique():\n",
    "    if not os.path.exists('train/'+_):\n",
    "        os.makedirs('train/'+_)\n",
    "\n",
    "for _ in testDf.CATEGORY.unique():\n",
    "    if not os.path.exists('test/'+_):\n",
    "        os.makedirs('test/'+_)"
   ]
  },
  {
   "cell_type": "code",
   "execution_count": 12,
   "metadata": {},
   "outputs": [
    {
     "name": "stdout",
     "output_type": "stream",
     "text": [
      "FileNotFoundError\n",
      "FileNotFoundError\n"
     ]
    }
   ],
   "source": [
    "#Move the data into the respective FolderStructures.\n",
    "try:\n",
    "    for _ in range(trainDf.shape[0]):\n",
    "        os.rename(\"images/\"+trainDf.iloc[_].image +\".jpg\", \"train/\"+trainDf.iloc[_].CATEGORY+\"/\"+trainDf.iloc[_].image+\".jpg\")\n",
    "except Exception as E:\n",
    "    print('FileNotFoundError')\n",
    "\n",
    "try:\n",
    "    for _ in range(testDf.shape[0]):\n",
    "        os.rename(\"images/\"+testDf.iloc[_].image + \".jpg\", \"test/\" +\n",
    "                testDf.iloc[_].CATEGORY+\"/\"+testDf.iloc[_].image+\".jpg\")\n",
    "except Exception as E:\n",
    "    print('FileNotFoundError')\n"
   ]
  },
  {
   "cell_type": "markdown",
   "metadata": {},
   "source": [
    "# Using Deeplearning model below."
   ]
  },
  {
   "cell_type": "code",
   "execution_count": 17,
   "metadata": {},
   "outputs": [
    {
     "data": {
      "text/plain": [
       "8"
      ]
     },
     "execution_count": 17,
     "metadata": {},
     "output_type": "execute_result"
    }
   ],
   "source": [
    "len(trainDf.CATEGORY.unique())"
   ]
  },
  {
   "cell_type": "code",
   "execution_count": 13,
   "metadata": {},
   "outputs": [],
   "source": [
    "import tensorflow as tf\n",
    "from tensorflow import keras"
   ]
  },
  {
   "cell_type": "code",
   "execution_count": 81,
   "metadata": {},
   "outputs": [
    {
     "name": "stdout",
     "output_type": "stream",
     "text": [
      "Found 6737 files belonging to 8 classes.\n",
      "Found 3319 files belonging to 8 classes.\n"
     ]
    }
   ],
   "source": [
    "trainDs = tf.keras.utils.image_dataset_from_directory(\n",
    "    os.path.join(os.getcwd(),'train'),\n",
    "    labels=\"inferred\",\n",
    "    label_mode=\"categorical\",\n",
    "    color_mode=\"grayscale\",\n",
    "    batch_size=32,\n",
    "    image_size=(256, 256),\n",
    "    shuffle=True,\n",
    "    seed=24,\n",
    "    validation_split=None,\n",
    "    subset=None,\n",
    "    interpolation=\"nearest\"\n",
    ")\n",
    "\n",
    "testDs = tf.keras.utils.image_dataset_from_directory(\n",
    "    os.path.join(os.getcwd(),'test'),\n",
    "    labels=\"inferred\",\n",
    "    label_mode=\"categorical\",\n",
    "    color_mode=\"grayscale\",\n",
    "    batch_size=32,\n",
    "    image_size=(256, 256),\n",
    "    shuffle=True,\n",
    "    seed=24,\n",
    "    validation_split=None,\n",
    "    subset=None,\n",
    "    interpolation=\"nearest\"\n",
    ")"
   ]
  },
  {
   "cell_type": "code",
   "execution_count": 77,
   "metadata": {},
   "outputs": [
    {
     "data": {
      "text/plain": [
       "210.53125"
      ]
     },
     "execution_count": 77,
     "metadata": {},
     "output_type": "execute_result"
    }
   ],
   "source": [
    "6737/32"
   ]
  },
  {
   "cell_type": "code",
   "execution_count": 78,
   "metadata": {},
   "outputs": [
    {
     "data": {
      "text/plain": [
       "211"
      ]
     },
     "execution_count": 78,
     "metadata": {},
     "output_type": "execute_result"
    }
   ],
   "source": [
    "len(trainDs)"
   ]
  },
  {
   "cell_type": "code",
   "execution_count": 82,
   "metadata": {},
   "outputs": [],
   "source": [
    "# Simple Model \n",
    "model = tf.keras.Sequential()\n",
    "model.add(tf.keras.layers.Input(shape=(256,256,1)))\n",
    "model.add(tf.keras.layers.Conv2D(64,kernel_size=(3,3),activation='relu'))\n",
    "model.add(tf.keras.layers.MaxPool2D((3, 3)))\n",
    "model.add(tf.keras.layers.Conv2D(64,kernel_size=(3,3),activation='relu'))\n",
    "model.add(tf.keras.layers.MaxPool2D((3, 3)))\n",
    "model.add(tf.keras.layers.Dense(54, activation='relu'))\n",
    "model.add(tf.keras.layers.Dropout(.2))\n",
    "model.add(tf.keras.layers.Flatten())\n",
    "model.add(tf.keras.layers.Dense(32, activation='relu'))\n",
    "model.add(tf.keras.layers.Dropout(.2))\n",
    "model.add(tf.keras.layers.Dense(8,activation = tf.keras.activations.sigmoid))\n"
   ]
  },
  {
   "cell_type": "code",
   "execution_count": 83,
   "metadata": {},
   "outputs": [
    {
     "name": "stdout",
     "output_type": "stream",
     "text": [
      "Model: \"sequential_14\"\n",
      "_________________________________________________________________\n",
      " Layer (type)                Output Shape              Param #   \n",
      "=================================================================\n",
      " conv2d_17 (Conv2D)          (None, 254, 254, 64)      640       \n",
      "                                                                 \n",
      " max_pooling2d_10 (MaxPoolin  (None, 84, 84, 64)       0         \n",
      " g2D)                                                            \n",
      "                                                                 \n",
      " conv2d_18 (Conv2D)          (None, 82, 82, 64)        36928     \n",
      "                                                                 \n",
      " max_pooling2d_11 (MaxPoolin  (None, 27, 27, 64)       0         \n",
      " g2D)                                                            \n",
      "                                                                 \n",
      " dense_15 (Dense)            (None, 27, 27, 54)        3510      \n",
      "                                                                 \n",
      " dropout_11 (Dropout)        (None, 27, 27, 54)        0         \n",
      "                                                                 \n",
      " flatten_1 (Flatten)         (None, 39366)             0         \n",
      "                                                                 \n",
      " dense_16 (Dense)            (None, 32)                1259744   \n",
      "                                                                 \n",
      " dropout_12 (Dropout)        (None, 32)                0         \n",
      "                                                                 \n",
      " dense_17 (Dense)            (None, 8)                 264       \n",
      "                                                                 \n",
      "=================================================================\n",
      "Total params: 1,301,086\n",
      "Trainable params: 1,301,086\n",
      "Non-trainable params: 0\n",
      "_________________________________________________________________\n"
     ]
    }
   ],
   "source": [
    "model.summary()"
   ]
  },
  {
   "cell_type": "code",
   "execution_count": 84,
   "metadata": {},
   "outputs": [],
   "source": [
    "model.compile(optimizer='adam',\n",
    "              loss='categorical_crossentropy', metrics=['accuracy'])\n"
   ]
  },
  {
   "cell_type": "code",
   "execution_count": 85,
   "metadata": {},
   "outputs": [
    {
     "name": "stdout",
     "output_type": "stream",
     "text": [
      "Epoch 1/4\n",
      "Epoch 2/4\n",
      "Epoch 3/4\n",
      "Epoch 4/4\n"
     ]
    }
   ],
   "source": [
    "history = model.fit(\n",
    "    trainDs,\n",
    "    epochs=4,\n",
    "    verbose=\"2\",\n",
    "    validation_data=testDs,\n",
    "    shuffle=True,\n",
    "    initial_epoch=0,\n",
    "    use_multiprocessing=True\n",
    ")"
   ]
  },
  {
   "cell_type": "code",
   "execution_count": 91,
   "metadata": {},
   "outputs": [
    {
     "data": {
      "text/plain": [
       "{'loss': [2.839317560195923,\n",
       "  1.7928498983383179,\n",
       "  1.6349717378616333,\n",
       "  1.509108304977417],\n",
       " 'accuracy': [0.6266884207725525,\n",
       "  0.6630547642707825,\n",
       "  0.6630547642707825,\n",
       "  0.6630547642707825],\n",
       " 'val_loss': [1.878008246421814,\n",
       "  1.7002049684524536,\n",
       "  1.5547199249267578,\n",
       "  1.4411108493804932],\n",
       " 'val_accuracy': [0.6742994785308838,\n",
       "  0.6742994785308838,\n",
       "  0.6742994785308838,\n",
       "  0.6742994785308838]}"
      ]
     },
     "execution_count": 91,
     "metadata": {},
     "output_type": "execute_result"
    }
   ],
   "source": [
    "history.history"
   ]
  },
  {
   "cell_type": "code",
   "execution_count": null,
   "metadata": {},
   "outputs": [],
   "source": []
  }
 ],
 "metadata": {
  "interpreter": {
   "hash": "667f09ab1bec2f9764decd719aa5a2b4a6dd8c1efa8589e48368dec22fe5ae68"
  },
  "kernelspec": {
   "display_name": "Python 3.8.8 ('base')",
   "language": "python",
   "name": "python3"
  },
  "language_info": {
   "codemirror_mode": {
    "name": "ipython",
    "version": 3
   },
   "file_extension": ".py",
   "mimetype": "text/x-python",
   "name": "python",
   "nbconvert_exporter": "python",
   "pygments_lexer": "ipython3",
   "version": "3.8.8"
  },
  "orig_nbformat": 4
 },
 "nbformat": 4,
 "nbformat_minor": 2
}
